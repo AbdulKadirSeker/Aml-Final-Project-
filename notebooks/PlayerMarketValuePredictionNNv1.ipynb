{
 "cells": [
  {
   "metadata": {},
   "cell_type": "markdown",
   "source": [
    "# Player Market Value Prediction: Applied ML 2025 Final Project\n",
    "\n",
    "In this notebook, we predict football players' market values using player stats, demographics, and performance data.  \n",
    "We use the helper functions from `utils.py` to keep our workflow modular and clean.\n"
   ],
   "id": "cadf1a637c70763d"
  },
  {
   "metadata": {},
   "cell_type": "code",
   "outputs": [],
   "execution_count": null,
   "source": [
    "# Import libraries and utils\n",
    "import numpy as np\n",
    "import pandas as pd\n",
    "import matplotlib.pyplot as plt\n",
    "\n",
    "from src import load_all\n",
    "\n",
    "# Set pandas options for nicer display\n",
    "pd.set_option('display.max_columns', 100)\n"
   ],
   "id": "de589027672a388f"
  },
  {
   "metadata": {},
   "cell_type": "code",
   "outputs": [],
   "execution_count": null,
   "source": "",
   "id": "1b804e065590d9b6"
  },
  {
   "metadata": {},
   "cell_type": "code",
   "outputs": [],
   "execution_count": null,
   "source": [
    "# Load all data as a dictionary of DataFrames\n",
    "data = load_all()\n",
    "for name, df in data.items():\n",
    "    print(f\"{name}: {df.shape}\")\n"
   ],
   "id": "82d76ec6f00470ca"
  }
 ],
 "metadata": {
  "kernelspec": {
   "display_name": "Python 3",
   "language": "python",
   "name": "python3"
  },
  "language_info": {
   "codemirror_mode": {
    "name": "ipython",
    "version": 2
   },
   "file_extension": ".py",
   "mimetype": "text/x-python",
   "name": "python",
   "nbconvert_exporter": "python",
   "pygments_lexer": "ipython2",
   "version": "2.7.6"
  }
 },
 "nbformat": 4,
 "nbformat_minor": 5
}
