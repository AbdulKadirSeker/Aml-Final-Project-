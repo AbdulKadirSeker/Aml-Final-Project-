{
 "cells": [
  {
   "metadata": {},
   "cell_type": "markdown",
   "source": [
    "# Player Market Value Prediction: Applied ML 2025 Final Project\n",
    "\n",
    "In this notebook, we predict football players' market values using player stats, demographics, and performance data.  \n",
    "We use the helper functions from `utils.py` to keep our workflow modular and clean.\n"
   ],
   "id": "cadf1a637c70763d"
  },
  {
   "metadata": {},
   "cell_type": "code",
   "outputs": [],
   "execution_count": null,
   "source": [
    "# Import libraries and utils\n",
    "import numpy as np\n",
    "import pandas as pd\n",
    "import matplotlib.pyplot as plt\n",
    "\n",
    "from src import load_all, aggregate_player_stats, get_latest_valuation, merge_player_data, plot_distribution, fillna_and_scale, encode_categorical, scatter_actual_vs_pred\n",
    "\n",
    "\n",
    "# Set pandas options for nicer display\n",
    "pd.set_option('display.max_columns', 100)\n"
   ],
   "id": "de589027672a388f"
  },
  {
   "metadata": {},
   "cell_type": "markdown",
   "source": [
    "## 1. Data Loading\n",
    "\n",
    "First, we load all the relevant tables from the dataset using our utility functions.\n"
   ],
   "id": "812aa2b228a33145"
  },
  {
   "metadata": {},
   "cell_type": "code",
   "outputs": [],
   "execution_count": null,
   "source": [
    "# Load all data as a dictionary of DataFrames\n",
    "data = load_all()\n",
    "for name, df in data.items():\n",
    "    print(f\"{name}: {df.shape}\")\n"
   ],
   "id": "82d76ec6f00470ca"
  },
  {
   "metadata": {},
   "cell_type": "markdown",
   "source": [
    "## 2. Data Preprocessing & Feature Table Creation\n",
    "\n",
    "We aggregate player stats, get the latest player valuation, and merge everything into a single table.\n"
   ],
   "id": "9530dcc9c4463445"
  },
  {
   "metadata": {},
   "cell_type": "code",
   "outputs": [],
   "execution_count": null,
   "source": [
    "# Aggregate stats and get latest valuations\n",
    "stats = aggregate_player_stats(data['appearances'])\n",
    "latest_val = get_latest_valuation(data['valuations'])\n",
    "\n",
    "# Merge into main DataFrame\n",
    "main_df = merge_player_data(data['players'], stats, latest_val)\n",
    "print(main_df.head())\n"
   ],
   "id": "f3292c26b547558c"
  },
  {
   "metadata": {},
   "cell_type": "markdown",
   "source": [
    "## 3. Exploratory Data Analysis (EDA)\n",
    "\n",
    "Let’s examine the distribution of market values, relationships with age, and other interesting patterns.\n"
   ],
   "id": "a80c2e7685e017f3"
  },
  {
   "metadata": {},
   "cell_type": "code",
   "outputs": [],
   "execution_count": null,
   "source": [
    "# Plot distribution of target variable\n",
    "plot_distribution(main_df['market_value_in_eur'].dropna(), title=\"Market Value (EUR) Distribution\")\n",
    "\n",
    "# Example: Plot Market Value vs Age\n",
    "plt.figure(figsize=(8,4))\n",
    "plt.scatter(main_df['last_season'], main_df['market_value_in_eur'], alpha=0.5)\n",
    "plt.xlabel(\"Last Season\")\n",
    "plt.ylabel(\"Market Value (EUR)\")\n",
    "plt.title(\"Market Value vs Last Season\")\n",
    "plt.show()\n",
    "\n",
    "# Age vs Value\n",
    "if 'date_of_birth' in main_df.columns:\n",
    "    main_df['age'] = 2025 - pd.to_datetime(main_df['date_of_birth']).dt.year\n",
    "    plt.scatter(main_df['age'], main_df['market_value_in_eur'], alpha=0.4)\n",
    "    plt.xlabel(\"Age\")\n",
    "    plt.ylabel(\"Market Value (EUR)\")\n",
    "    plt.title(\"Market Value vs Age\")\n",
    "    plt.show()\n"
   ],
   "id": "143597514a6860ba"
  },
  {
   "metadata": {},
   "cell_type": "markdown",
   "source": [
    "## 4. Feature Engineering\n",
    "\n",
    "We select and prepare the features we want to use for modeling.  \n",
    "Categorical variables are encoded, numeric features are scaled, and missing values are handled.\n"
   ],
   "id": "bd14f7d1801752fb"
  },
  {
   "metadata": {},
   "cell_type": "code",
   "outputs": [],
   "execution_count": null,
   "source": [
    "# Select features for the model (extend as needed!)\n",
    "features = [\n",
    "    'n_games', 'total_yellow', 'total_red',  # From stats\n",
    "    'age',                                   # Derived\n",
    "    # Add more features as engineered!\n",
    "]\n",
    "cat_features = ['position']  # Example: add position if available\n",
    "\n",
    "# Handle missing numeric features and scale\n",
    "X_num = main_df[features].copy()\n",
    "X_scaled, scaler = fillna_and_scale(X_num, features)\n",
    "\n",
    "# Encode categorical features if available\n",
    "if all(col in main_df.columns for col in cat_features):\n",
    "    X_cat, encoder = encode_categorical(main_df, cat_features)\n",
    "    # Combine numeric + categorical features\n",
    "    import numpy as np\n",
    "    X_full = np.concatenate([X_scaled, X_cat.values], axis=1)\n",
    "else:\n",
    "    X_full = X_scaled\n",
    "\n",
    "# Prepare target variable (log-transform recommended for skew)\n",
    "y = main_df['market_value_in_eur'].copy()\n",
    "y = np.log1p(y)  # Use log1p to avoid log(0)\n"
   ],
   "id": "987957424301f052"
  },
  {
   "metadata": {},
   "cell_type": "markdown",
   "source": [
    "## 5. Train/Test Split\n",
    "\n",
    "We split our data into training and testing sets to fairly evaluate the model's performance.\n"
   ],
   "id": "445d8b332aec1250"
  },
  {
   "metadata": {},
   "cell_type": "code",
   "outputs": [],
   "execution_count": null,
   "source": [
    "from sklearn.model_selection import train_test_split\n",
    "\n",
    "# Remove rows with missing targets\n",
    "valid_idx = ~y.isna()\n",
    "X_full = X_full[valid_idx]\n",
    "y = y[valid_idx]\n",
    "\n",
    "# Split data\n",
    "X_train, X_test, y_train, y_test = train_test_split(X_full, y, test_size=0.2, random_state=42)\n",
    "print(X_train.shape, X_test.shape)\n"
   ],
   "id": "3ea7b226eebb6e79"
  },
  {
   "metadata": {},
   "cell_type": "markdown",
   "source": [
    "## 6. Neural Network Regression\n",
    "\n",
    "We train a simple neural network to predict player market value.\n"
   ],
   "id": "93048304d8452fc1"
  },
  {
   "metadata": {},
   "cell_type": "code",
   "outputs": [],
   "execution_count": null,
   "source": [
    "import tensorflow as tf\n",
    "from tensorflow import keras\n",
    "\n",
    "# Define a simple MLP model\n",
    "model = keras.Sequential([\n",
    "    keras.layers.Input(shape=(X_train.shape[1],)),\n",
    "    keras.layers.Dense(64, activation='relu'),\n",
    "    keras.layers.Dense(32, activation='relu'),\n",
    "    keras.layers.Dense(1)\n",
    "])\n",
    "\n",
    "model.compile(optimizer='adam', loss='mse', metrics=['mae'])\n",
    "\n",
    "# Train the model (early stopping to avoid overfitting)\n",
    "early_stop = keras.callbacks.EarlyStopping(monitor='val_loss', patience=10, restore_best_weights=True)\n",
    "\n",
    "history = model.fit(\n",
    "    X_train, y_train,\n",
    "    validation_split=0.2,\n",
    "    epochs=100,\n",
    "    batch_size=32,\n",
    "    callbacks=[early_stop],\n",
    "    verbose=1\n",
    ")\n"
   ],
   "id": "69a13a692fefec2c"
  },
  {
   "metadata": {},
   "cell_type": "markdown",
   "source": [
    "## 7. Model Evaluation\n",
    "\n",
    "We evaluate the model’s predictions using mean absolute error (MAE) and plot actual vs. predicted values.\n"
   ],
   "id": "2c7fd29e00dbe510"
  },
  {
   "metadata": {},
   "cell_type": "code",
   "outputs": [],
   "execution_count": null,
   "source": [
    "# Predict and reverse log-transform\n",
    "y_pred = model.predict(X_test).flatten()\n",
    "y_test_exp = np.expm1(y_test)\n",
    "y_pred_exp = np.expm1(y_pred)\n",
    "\n",
    "from sklearn.metrics import mean_absolute_error, r2_score\n",
    "\n",
    "mae = mean_absolute_error(y_test_exp, y_pred_exp)\n",
    "r2 = r2_score(y_test_exp, y_pred_exp)\n",
    "\n",
    "print(f\"Test MAE: €{mae:,.2f}\")\n",
    "print(f\"Test R^2: {r2:.3f}\")\n",
    "\n",
    "# Plot actual vs predicted\n",
    "scatter_actual_vs_pred(y_test_exp, y_pred_exp, title=\"Actual vs Predicted Market Value\")\n"
   ],
   "id": "f7300d242492aa91"
  },
  {
   "metadata": {},
   "cell_type": "markdown",
   "source": [
    "## 8. Hyperparameter Tuning (Quick Example)\n",
    "\n",
    "Let’s briefly show how to tune the network size for better performance.\n"
   ],
   "id": "a5ad55b6c80b212f"
  },
  {
   "metadata": {},
   "cell_type": "code",
   "outputs": [],
   "execution_count": null,
   "source": [
    "# Example: try different layer sizes\n",
    "results = []\n",
    "for size in [16, 32, 64, 128]:\n",
    "    model = keras.Sequential([\n",
    "        keras.layers.Input(shape=(X_train.shape[1],)),\n",
    "        keras.layers.Dense(size, activation='relu'),\n",
    "        keras.layers.Dense(size, activation='relu'),\n",
    "        keras.layers.Dense(1)\n",
    "    ])\n",
    "    model.compile(optimizer='adam', loss='mse', metrics=['mae'])\n",
    "    model.fit(X_train, y_train, epochs=20, batch_size=32, verbose=0)\n",
    "    y_pred = model.predict(X_test).flatten()\n",
    "    y_pred_exp = np.expm1(y_pred)\n",
    "    mae = mean_absolute_error(y_test_exp, y_pred_exp)\n",
    "    results.append((size, mae))\n",
    "\n",
    "print(\"Layer size vs MAE:\")\n",
    "for size, mae in results:\n",
    "    print(f\"  {size} units: MAE = €{mae:,.2f}\")\n"
   ],
   "id": "fafefd561b2cff88"
  },
  {
   "metadata": {},
   "cell_type": "markdown",
   "source": [
    "## 9. Feature Importance (Optional)\n",
    "\n",
    "For neural nets, try permutation importance to see which features matter most.\n"
   ],
   "id": "91b105816df4df0f"
  },
  {
   "metadata": {},
   "cell_type": "code",
   "outputs": [],
   "execution_count": null,
   "source": [
    "from sklearn.inspection import permutation_importance\n",
    "\n",
    "# To use permutation_importance, you need a model with a .predict() method and numpy arrays.\n",
    "# We'll use a simple baseline regressor for illustration:\n",
    "from sklearn.ensemble import RandomForestRegressor\n",
    "\n",
    "rf = RandomForestRegressor(n_estimators=50, random_state=42)\n",
    "rf.fit(X_train, y_train)\n",
    "result = permutation_importance(rf, X_test, y_test, n_repeats=5, random_state=42)\n",
    "\n",
    "# Show top features\n",
    "importances = result.importances_mean\n",
    "indices = np.argsort(importances)[::-1]\n",
    "for idx in indices[:10]:\n",
    "    print(f\"{features[idx]}: {importances[idx]:.4f}\")\n"
   ],
   "id": "fdce2b2064f2b0ec"
  },
  {
   "metadata": {},
   "cell_type": "markdown",
   "source": [
    "## 10. Conclusions\n",
    "\n",
    "We built a neural network model to predict football player market values using stats and personal data.  \n",
    "Feel free to extend this with more advanced features, more complex models, or deeper analysis!\n"
   ],
   "id": "a8818c5ddeaed478"
  }
 ],
 "metadata": {
  "kernelspec": {
   "display_name": "Python 3",
   "language": "python",
   "name": "python3"
  },
  "language_info": {
   "codemirror_mode": {
    "name": "ipython",
    "version": 2
   },
   "file_extension": ".py",
   "mimetype": "text/x-python",
   "name": "python",
   "nbconvert_exporter": "python",
   "pygments_lexer": "ipython2",
   "version": "2.7.6"
  }
 },
 "nbformat": 4,
 "nbformat_minor": 5
}
